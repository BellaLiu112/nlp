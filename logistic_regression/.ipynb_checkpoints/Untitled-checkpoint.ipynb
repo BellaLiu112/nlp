{
 "cells": [
  {
   "cell_type": "code",
   "execution_count": 1,
   "metadata": {
    "collapsed": true
   },
   "outputs": [],
   "source": [
    "import numpy as np\n",
    "import matplotlib.pyplot as plt\n",
    "from matplotlib.backends.backend_pdf import PdfPages"
   ]
  },
  {
   "cell_type": "code",
   "execution_count": 6,
   "metadata": {
    "collapsed": true
   },
   "outputs": [],
   "source": [
    "file = open('ll_array.txt', 'r')\n",
    "ll_array = None"
   ]
  },
  {
   "cell_type": "code",
   "execution_count": 7,
   "metadata": {},
   "outputs": [],
   "source": [
    "ll_array = file.read()"
   ]
  },
  {
   "cell_type": "code",
   "execution_count": 9,
   "metadata": {},
   "outputs": [],
   "source": [
    "file.close()"
   ]
  },
  {
   "cell_type": "code",
   "execution_count": 11,
   "metadata": {},
   "outputs": [],
   "source": [
    "file = open('ll_array.txt', 'r')\n",
    "ll_array = None\n",
    "ll_array = file.read()\n",
    "ll_array = ll_array.split()\n",
    "ll_array = [float(item) for item in ll_array]\n",
    "file.close()"
   ]
  },
  {
   "cell_type": "code",
   "execution_count": 12,
   "metadata": {},
   "outputs": [
    {
     "data": {
      "text/plain": [
       "301"
      ]
     },
     "execution_count": 12,
     "metadata": {},
     "output_type": "execute_result"
    }
   ],
   "source": [
    "len(ll_array)"
   ]
  },
  {
   "cell_type": "code",
   "execution_count": 15,
   "metadata": {
    "collapsed": true
   },
   "outputs": [],
   "source": [
    "itertimes = np.arange(start=0, stop=301000, step=1000)"
   ]
  },
  {
   "cell_type": "code",
   "execution_count": 16,
   "metadata": {},
   "outputs": [
    {
     "data": {
      "text/plain": [
       "array([     0,   1000,   2000,   3000,   4000,   5000,   6000,   7000,\n",
       "         8000,   9000,  10000,  11000,  12000,  13000,  14000,  15000,\n",
       "        16000,  17000,  18000,  19000,  20000,  21000,  22000,  23000,\n",
       "        24000,  25000,  26000,  27000,  28000,  29000,  30000,  31000,\n",
       "        32000,  33000,  34000,  35000,  36000,  37000,  38000,  39000,\n",
       "        40000,  41000,  42000,  43000,  44000,  45000,  46000,  47000,\n",
       "        48000,  49000,  50000,  51000,  52000,  53000,  54000,  55000,\n",
       "        56000,  57000,  58000,  59000,  60000,  61000,  62000,  63000,\n",
       "        64000,  65000,  66000,  67000,  68000,  69000,  70000,  71000,\n",
       "        72000,  73000,  74000,  75000,  76000,  77000,  78000,  79000,\n",
       "        80000,  81000,  82000,  83000,  84000,  85000,  86000,  87000,\n",
       "        88000,  89000,  90000,  91000,  92000,  93000,  94000,  95000,\n",
       "        96000,  97000,  98000,  99000, 100000, 101000, 102000, 103000,\n",
       "       104000, 105000, 106000, 107000, 108000, 109000, 110000, 111000,\n",
       "       112000, 113000, 114000, 115000, 116000, 117000, 118000, 119000,\n",
       "       120000, 121000, 122000, 123000, 124000, 125000, 126000, 127000,\n",
       "       128000, 129000, 130000, 131000, 132000, 133000, 134000, 135000,\n",
       "       136000, 137000, 138000, 139000, 140000, 141000, 142000, 143000,\n",
       "       144000, 145000, 146000, 147000, 148000, 149000, 150000, 151000,\n",
       "       152000, 153000, 154000, 155000, 156000, 157000, 158000, 159000,\n",
       "       160000, 161000, 162000, 163000, 164000, 165000, 166000, 167000,\n",
       "       168000, 169000, 170000, 171000, 172000, 173000, 174000, 175000,\n",
       "       176000, 177000, 178000, 179000, 180000, 181000, 182000, 183000,\n",
       "       184000, 185000, 186000, 187000, 188000, 189000, 190000, 191000,\n",
       "       192000, 193000, 194000, 195000, 196000, 197000, 198000, 199000,\n",
       "       200000, 201000, 202000, 203000, 204000, 205000, 206000, 207000,\n",
       "       208000, 209000, 210000, 211000, 212000, 213000, 214000, 215000,\n",
       "       216000, 217000, 218000, 219000, 220000, 221000, 222000, 223000,\n",
       "       224000, 225000, 226000, 227000, 228000, 229000, 230000, 231000,\n",
       "       232000, 233000, 234000, 235000, 236000, 237000, 238000, 239000,\n",
       "       240000, 241000, 242000, 243000, 244000, 245000, 246000, 247000,\n",
       "       248000, 249000, 250000, 251000, 252000, 253000, 254000, 255000,\n",
       "       256000, 257000, 258000, 259000, 260000, 261000, 262000, 263000,\n",
       "       264000, 265000, 266000, 267000, 268000, 269000, 270000, 271000,\n",
       "       272000, 273000, 274000, 275000, 276000, 277000, 278000, 279000,\n",
       "       280000, 281000, 282000, 283000, 284000, 285000, 286000, 287000,\n",
       "       288000, 289000, 290000, 291000, 292000, 293000, 294000, 295000,\n",
       "       296000, 297000, 298000, 299000, 300000])"
      ]
     },
     "execution_count": 16,
     "metadata": {},
     "output_type": "execute_result"
    }
   ],
   "source": [
    "itertimes"
   ]
  },
  {
   "cell_type": "code",
   "execution_count": 18,
   "metadata": {
    "collapsed": true
   },
   "outputs": [],
   "source": [
    "file = open('ll_array.txt', 'r')\n",
    "ll_array = None\n",
    "\n",
    "try:\n",
    "    ll_array = file.read()\n",
    "    ll_array = ll_array.split()\n",
    "    ll_array = [float(item) for item in ll_array]\n",
    "    ll_array = np.array(ll_array)\n",
    "\n",
    "    with PdfPages('loglikelihood.pdf') as pdf:\n",
    "        itertimes = np.arange(start=0, stop=301000, step=1000)\n",
    "        fig = plt.figure()\n",
    "        plt.clf()\n",
    "        plt.plot(itertimes, ll_array, '-', color='orange', rasterized=True)\n",
    "        plt.xlabel(\"loglikelihood\")\n",
    "        plt.ylabel(\"\")\n",
    "        plt.grid(True)\n",
    "        pdf.savefig(fig)\n",
    "finally:\n",
    "    file.close()"
   ]
  },
  {
   "cell_type": "code",
   "execution_count": 25,
   "metadata": {},
   "outputs": [],
   "source": [
    "ll_array_larger = []\n",
    "with open(\"ll_array_larger.txt\", 'r') as file:\n",
    "    for line in file:\n",
    "        ll_array_larger.append(float(line))"
   ]
  },
  {
   "cell_type": "code",
   "execution_count": 21,
   "metadata": {},
   "outputs": [
    {
     "data": {
      "text/plain": [
       "301"
      ]
     },
     "execution_count": 21,
     "metadata": {},
     "output_type": "execute_result"
    }
   ],
   "source": [
    "len(ll_array_larger)"
   ]
  },
  {
   "cell_type": "code",
   "execution_count": 24,
   "metadata": {
    "collapsed": true
   },
   "outputs": [],
   "source": [
    "ll_array_smaller = []\n",
    "with open(\"ll_array_smaller.txt\", 'r') as file:\n",
    "    for line in file:\n",
    "        ll_array_smaller.append(float(line))"
   ]
  },
  {
   "cell_type": "code",
   "execution_count": 26,
   "metadata": {},
   "outputs": [
    {
     "data": {
      "text/plain": [
       "[-24785.105157, -24798.5824983, -24805.9002665, -24807.9274372]"
      ]
     },
     "execution_count": 26,
     "metadata": {},
     "output_type": "execute_result"
    }
   ],
   "source": [
    "ll_array_smaller"
   ]
  },
  {
   "cell_type": "code",
   "execution_count": 28,
   "metadata": {},
   "outputs": [],
   "source": [
    "iter_smaller = np.array([1000, 2000, 3000])"
   ]
  },
  {
   "cell_type": "code",
   "execution_count": null,
   "metadata": {
    "collapsed": true
   },
   "outputs": [],
   "source": [
    "itertimes = np.arange(start=1000, stop=301000, step=1000)\n",
    "iter_smaller = np.array([1000, 2000, 3000])\n",
    "ll_array.pop(0)\n",
    "with PdfPages('loglikelihood_multiple.pdf') as pdf:\n",
    "        itertimes = np.arange(start=1000, stop=301000, step=1000)\n",
    "        fig = plt.figure()\n",
    "        plt.clf()\n",
    "        plt.plot(itertimes, ll_array, label = '1e-5')\n",
    "        plt.plot(itertimes, )\n",
    "        plt.xlabel(\"Iteration Times\")\n",
    "        plt.ylabel(\"Log Likelihood\")\n",
    "        plt.grid(True)\n",
    "        pdf.savefig(fig)"
   ]
  }
 ],
 "metadata": {
  "kernelspec": {
   "display_name": "Python 3",
   "language": "python",
   "name": "python3"
  },
  "language_info": {
   "codemirror_mode": {
    "name": "ipython",
    "version": 3
   },
   "file_extension": ".py",
   "mimetype": "text/x-python",
   "name": "python",
   "nbconvert_exporter": "python",
   "pygments_lexer": "ipython3",
   "version": "3.6.1"
  }
 },
 "nbformat": 4,
 "nbformat_minor": 2
}
